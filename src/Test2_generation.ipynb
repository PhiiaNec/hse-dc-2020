{
 "cells": [
  {
   "cell_type": "code",
   "execution_count": 1,
   "metadata": {},
   "outputs": [],
   "source": [
    "import numpy as np\n",
    "import pandas as pd\n",
    "from testgen_base import Test"
   ]
  },
  {
   "cell_type": "code",
   "execution_count": 2,
   "metadata": {},
   "outputs": [],
   "source": [
    "import re\n",
    "import os\n",
    "import subprocess\n",
    "import os.path as op\n",
    "from tqdm import tqdm"
   ]
  },
  {
   "cell_type": "code",
   "execution_count": 3,
   "metadata": {},
   "outputs": [],
   "source": [
    "if not op.exists(\"tasks\"):\n",
    "    os.makedirs(\"tasks\")"
   ]
  },
  {
   "cell_type": "code",
   "execution_count": 4,
   "metadata": {},
   "outputs": [],
   "source": [
    "if not op.exists(\"pdfs\"):\n",
    "    os.makedirs(\"pdfs\")"
   ]
  },
  {
   "cell_type": "code",
   "execution_count": 5,
   "metadata": {},
   "outputs": [],
   "source": [
    "if not op.exists(\"tex\"):\n",
    "    os.makedirs(\"tex\")"
   ]
  },
  {
   "cell_type": "code",
   "execution_count": 6,
   "metadata": {},
   "outputs": [],
   "source": [
    "if not op.exists(\"answers\"):\n",
    "    os.makedirs(\"answers\")"
   ]
  },
  {
   "cell_type": "code",
   "execution_count": 7,
   "metadata": {},
   "outputs": [],
   "source": [
    "if not op.exists(\"variables\"):\n",
    "    os.makedirs(\"variables\")"
   ]
  },
  {
   "cell_type": "code",
   "execution_count": 8,
   "metadata": {},
   "outputs": [],
   "source": [
    "class Test2(Test):\n",
    "    \n",
    "    def __init__(self):\n",
    "        super(Test2, self).__init__()\n",
    "        self.import1 = \"import numpy as np\"\n",
    "        self.seed = \"np.random.seed(1337)\"\n",
    "        self.uniform = \"np.random.uniform(low=LOW, high=HIGH, size=10)\"\n",
    "        self.normal = \"np.random.normal(loc=HIGH, scale=LOW, size=10)\"\n",
    "        \n",
    "    def init_variable(self, current_variables, is_list):\n",
    "        if is_list:\n",
    "            s = np.random.choice(self.variables)+\" = \"+self.make_random_list()\n",
    "        else:\n",
    "            s = np.random.choice(current_variables)+\" = \"+self.random_expression(2, 3)\n",
    "        return(s)\n",
    "    \n",
    "    def make_lcomp(self, lists, functions):\n",
    "        s = self.list_comprehension.replace(\"FUNCTION\", np.random.choice(functions))\n",
    "        s = s.replace(\"VARIABLE\", np.random.choice(self.variables))\n",
    "        s = s.replace(\"LIST\", np.random.choice(lists))\n",
    "        return(s)\n",
    "    \n",
    "    def change_variable(self, current_variables):\n",
    "        s = np.random.choice(current_variables)+\" = \"+self.random_expression(2, 3)\n",
    "        s += np.random.choice(self.arithmetic)\n",
    "        s += np.random.choice(current_variables)\n",
    "        return(s)\n",
    "        \n",
    "    def make_random_list(self):\n",
    "        what = np.random.choice([\"uniform\", \"normal\"])\n",
    "        s = self.uniform if what==\"uniform\" else self.normal\n",
    "        bounds = sorted(np.random.choice(np.arange(10), size=2))\n",
    "        s = s.replace(\"LOW\", str(bounds[0])).replace(\n",
    "            \"HIGH\", str(bounds[1])\n",
    "        ).replace(\"SIZE\", str(np.random.choice(np.arange(5, 15))))\n",
    "        return(s)\n",
    "    \n",
    "    def make_function(self):\n",
    "        f_name = \"\".join(np.random.choice(self.variables, size=10))\n",
    "        current_variables = np.random.choice(self.variables, size=1)\n",
    "        s = self.function_start.replace(\n",
    "            \"NAME\", f_name\n",
    "        ).replace(\"ARGUMENTS\", current_variables[0])\n",
    "        s += \"    \"\n",
    "        s += self.change_variable(current_variables)+\"\\n\"\n",
    "        s += \"    \"+self.function_return.replace(\"NAME\", current_variables[0])+\"\\n\"\n",
    "        return(s, f_name)\n",
    "    \n",
    "    def make_code(self, n):\n",
    "        code = []\n",
    "        current_variables = []\n",
    "        current_lists = []\n",
    "        current_functions = []\n",
    "        block_count = 0\n",
    "        prev = \"start\"\n",
    "        code.append(self.import1+\"\\n\"+self.seed+\"\\n\\n\")\n",
    "        for a in range(n):\n",
    "            if len(current_variables) == 0:\n",
    "                current_variables.append(np.random.choice(self.variables))\n",
    "            what = np.random.choice(\n",
    "                [\n",
    "                    \"assignment\", \"function\"\n",
    "                ], p = [0.5, 0.5]\n",
    "            )\n",
    "            if what == \"assignment\":\n",
    "                line = self.init_variable(\n",
    "                    current_variables, np.random.choice([True, False])\n",
    "                )\n",
    "                current_variables.append(line[0])\n",
    "                if \"random\" in line:\n",
    "                    current_lists.append(line[0])\n",
    "                elif line[0] in current_lists:\n",
    "                    del current_lists[current_lists.index(line[0])]\n",
    "                current_variables = list(set(current_variables))\n",
    "                code.append(block_count*\"    \")\n",
    "                code.append(line+\"\\n\")\n",
    "            elif what == \"function\":\n",
    "                fline, fname = self.make_function()\n",
    "                code.append(fline)\n",
    "                current_functions.append(fname)\n",
    "            #code += \"\\n\"\n",
    "            prev = what\n",
    "      #  print(a, what)\n",
    "        if len(current_lists) == 0:\n",
    "            line = self.init_variable(\n",
    "                current_variables, False\n",
    "            )\n",
    "            current_variables.append(line[0])\n",
    "            current_lists.append(line[0])\n",
    "            current_variables = list(set(current_variables))\n",
    "            code.append(block_count*\"    \")\n",
    "            code.append(line+\"\\n\")\n",
    "        if len(current_functions) == 0:\n",
    "            current_functions.extend([\"np.sqrt\", \"np.log\", \"np.exp\"])\n",
    "        line = \"print(np.round(\"+self.make_lcomp(current_lists, current_functions)+\", 1))\"\n",
    "        code.append(line)\n",
    "        return(code, current_variables)"
   ]
  },
  {
   "cell_type": "code",
   "execution_count": 9,
   "metadata": {},
   "outputs": [],
   "source": [
    "t = Test2()"
   ]
  },
  {
   "cell_type": "code",
   "execution_count": 10,
   "metadata": {},
   "outputs": [],
   "source": [
    "N_tasks = 400"
   ]
  },
  {
   "cell_type": "code",
   "execution_count": 11,
   "metadata": {
    "scrolled": true
   },
   "outputs": [
    {
     "name": "stderr",
     "output_type": "stream",
     "text": [
      "100%|██████████| 400/400 [01:09<00:00,  6.42it/s]\n"
     ]
    }
   ],
   "source": [
    "for a in tqdm(range(N_tasks)):\n",
    "    fn = op.join(\"tasks\", str(a)+\".py\")\n",
    "    ans_fn = op.join(\"answers\", str(a)+\".txt\")\n",
    "    var_fn = op.join(\"variables\", str(a)+\".txt\")\n",
    "    code, vs = t.make_code(np.random.choice(np.arange(5,20)))\n",
    "    with open(fn, \"w\") as oh:\n",
    "        oh.write(\"\".join(code))\n",
    "    the_code = subprocess.Popen(\n",
    "        \"python \"+fn, stdout=subprocess.PIPE, stderr=subprocess.PIPE, shell=True\n",
    "    )\n",
    "    stdout, stderr = the_code.communicate()\n",
    "    with open(ans_fn, \"w\") as oh:\n",
    "        if len(stdout) != 0:\n",
    "            oh.write(\"correct\\n\")\n",
    "            oh.write(stdout.decode())\n",
    "        else:\n",
    "            oh.write(\"error\\n\")\n",
    "            oh.write(stderr.decode())\n",
    "    with open(var_fn, \"w\") as oh:\n",
    "        oh.write(\",\".join(vs))"
   ]
  },
  {
   "cell_type": "code",
   "execution_count": 12,
   "metadata": {},
   "outputs": [],
   "source": [
    "def form_answers(n):\n",
    "    ans_fn = op.join(\"answers\", str(n)+\".txt\")\n",
    "    with open(ans_fn, \"r\") as ih:\n",
    "        u = ih.readlines()\n",
    "        if u[0].startswith(\"correct\"):\n",
    "            last_line = \"\".join(u[1:]).replace(\"\\n\", \"\")+\"\\n\"\n",
    "        else:\n",
    "            last_line = u[-1]\n",
    "    return(last_line)"
   ]
  },
  {
   "cell_type": "code",
   "execution_count": 13,
   "metadata": {},
   "outputs": [],
   "source": [
    "def form_incorrect_answers(n, corrects, chosen):\n",
    "    var_fn = op.join(\"variables\", str(n)+\".txt\")\n",
    "    with open(var_fn, \"r\") as ih1:\n",
    "        #chosen = np.random.choice(corrects)\n",
    "        out = chosen\n",
    "        variables_in_file = ih1.read().replace(\"\\n\", \"\").split(\",\")\n",
    "        what = np.random.choice([\"chosen\", \"random\"])\n",
    "        if what == \"chosen\":\n",
    "            if \"name\" in out:\n",
    "                if len(variables_in_file)>1:\n",
    "                    rpl = np.random.choice(variables_in_file)\n",
    "                    out = re.sub(\"name \\'[a-z]\\'\", \"name \\'\"+rpl+\"\\'\", chosen)\n",
    "        elif what == \"random\":\n",
    "            out = t.make_random_list()\n",
    "    return(chosen)"
   ]
  },
  {
   "cell_type": "code",
   "execution_count": 14,
   "metadata": {},
   "outputs": [
    {
     "data": {
      "text/plain": [
       "'[3.5 3.7 3.5 3.3 3.4 3.2 3.5 2.7 2.9 3.8]\\n'"
      ]
     },
     "execution_count": 14,
     "metadata": {},
     "output_type": "execute_result"
    }
   ],
   "source": [
    "form_answers(0)"
   ]
  },
  {
   "cell_type": "code",
   "execution_count": 15,
   "metadata": {},
   "outputs": [],
   "source": [
    "correct_answers = [form_answers(a) for a in np.arange(N_tasks)]"
   ]
  },
  {
   "cell_type": "code",
   "execution_count": 16,
   "metadata": {},
   "outputs": [
    {
     "data": {
      "text/plain": [
       "'[2. 2. 2. 2. 2. 2. 2. 2. 2. 2.]\\n'"
      ]
     },
     "execution_count": 16,
     "metadata": {},
     "output_type": "execute_result"
    }
   ],
   "source": [
    "form_incorrect_answers(6, correct_answers, np.random.choice(correct_answers))"
   ]
  },
  {
   "cell_type": "code",
   "execution_count": 17,
   "metadata": {},
   "outputs": [],
   "source": [
    "possible_incorrect_answers = list(np.unique(correct_answers))"
   ]
  },
  {
   "cell_type": "code",
   "execution_count": 18,
   "metadata": {},
   "outputs": [
    {
     "data": {
      "text/plain": [
       "400"
      ]
     },
     "execution_count": 18,
     "metadata": {},
     "output_type": "execute_result"
    }
   ],
   "source": [
    "len(correct_answers)"
   ]
  },
  {
   "cell_type": "code",
   "execution_count": 23,
   "metadata": {},
   "outputs": [
    {
     "name": "stderr",
     "output_type": "stream",
     "text": [
      "400it [00:00, 2386.38it/s]\n"
     ]
    }
   ],
   "source": [
    "all_answers = []\n",
    "for i,a in tqdm(enumerate(correct_answers)):\n",
    "    current_answers = [a]\n",
    "    three_choices = np.random.choice(possible_incorrect_answers, size=3, replace=False)\n",
    "    incorrect1 = form_incorrect_answers(i, correct_answers, three_choices[0])\n",
    "    incorrect2 = form_incorrect_answers(i, correct_answers, three_choices[1])\n",
    "    incorrect3 = form_incorrect_answers(i, correct_answers, three_choices[2])\n",
    "    current_answers.extend(\n",
    "        [incorrect1, incorrect2, incorrect3]\n",
    "    )\n",
    "    all_answers.append(np.random.permutation(current_answers))"
   ]
  },
  {
   "cell_type": "code",
   "execution_count": 24,
   "metadata": {},
   "outputs": [
    {
     "data": {
      "text/plain": [
       "array(['[195.2 213.3 227.6 105.8 272.6  84.  207.6 283.7 386.7 138.5]\\n',\n",
       "       '[3.5 3.7 3.5 3.3 3.4 3.2 3.5 2.7 2.9 3.8]\\n',\n",
       "       '[335. 335. 335. 335. 335. 335. 335. 335. 335. 335.]\\n',\n",
       "       '[290.  430.6 367.9 249.7 336.  257.3 379.7 490.3 252.2 536.3]\\n'],\n",
       "      dtype='<U62')"
      ]
     },
     "execution_count": 24,
     "metadata": {},
     "output_type": "execute_result"
    }
   ],
   "source": [
    "all_answers[0]"
   ]
  },
  {
   "cell_type": "code",
   "execution_count": 25,
   "metadata": {},
   "outputs": [],
   "source": [
    "variant = np.random.choice(np.arange(N_tasks), 10)"
   ]
  },
  {
   "cell_type": "code",
   "execution_count": 26,
   "metadata": {},
   "outputs": [
    {
     "data": {
      "text/plain": [
       "array([175,  41,   3,  43, 215, 268, 190, 250,  34, 199])"
      ]
     },
     "execution_count": 26,
     "metadata": {},
     "output_type": "execute_result"
    }
   ],
   "source": [
    "variant"
   ]
  },
  {
   "cell_type": "code",
   "execution_count": 27,
   "metadata": {},
   "outputs": [],
   "source": [
    "from copy import deepcopy"
   ]
  },
  {
   "cell_type": "code",
   "execution_count": 28,
   "metadata": {},
   "outputs": [
    {
     "data": {
      "text/plain": [
       "array(['[195.2 213.3 227.6 105.8 272.6  84.  207.6 283.7 386.7 138.5]\\n',\n",
       "       '[3.5 3.7 3.5 3.3 3.4 3.2 3.5 2.7 2.9 3.8]\\n',\n",
       "       '[335. 335. 335. 335. 335. 335. 335. 335. 335. 335.]\\n',\n",
       "       '[290.  430.6 367.9 249.7 336.  257.3 379.7 490.3 252.2 536.3]\\n'],\n",
       "      dtype='<U62')"
      ]
     },
     "execution_count": 28,
     "metadata": {},
     "output_type": "execute_result"
    }
   ],
   "source": [
    "all_answers[0]"
   ]
  },
  {
   "cell_type": "code",
   "execution_count": 29,
   "metadata": {},
   "outputs": [],
   "source": [
    "form = \"\"\"\n",
    "Вопрос №Q0, вариант VARIANT\n",
    "\n",
    "LISTING0\n",
    "\n",
    "1. A01\n",
    "2. A02\n",
    "3. A03\n",
    "4. A04\n",
    "\n",
    "\n",
    "Вопрос №Q1, вариант VARIANT\n",
    "\n",
    "LISTING1\n",
    "\n",
    "1. A11\n",
    "2. A12\n",
    "3. A13\n",
    "4. A14\n",
    "\n",
    "\n",
    "Вопрос №Q2, вариант VARIANT\n",
    "\n",
    "LISTING2\n",
    "\n",
    "1. A21\n",
    "2. A22\n",
    "3. A23\n",
    "4. A24\n",
    "\n",
    "\n",
    "Вопрос №Q3, вариант VARIANT\n",
    "\n",
    "LISTING3\n",
    "\n",
    "1. A31\n",
    "2. A32\n",
    "3. A33\n",
    "4. A34\n",
    "\n",
    "\n",
    "Вопрос №Q4, вариант VARIANT\n",
    "\n",
    "LISTING4\n",
    "\n",
    "1. A41\n",
    "2. A42\n",
    "3. A43\n",
    "4. A44\n",
    "\n",
    "\n",
    "Вопрос №Q5, вариант VARIANT\n",
    "\n",
    "LISTING5\n",
    "\n",
    "1. A51\n",
    "2. A52\n",
    "3. A53\n",
    "4. A54\n",
    "\n",
    "\n",
    "Вопрос №Q6, вариант VARIANT\n",
    "\n",
    "LISTING6\n",
    "\n",
    "1. A61\n",
    "2. A62\n",
    "3. A63\n",
    "4. A64\n",
    "\n",
    "\n",
    "Вопрос №Q7, вариант VARIANT\n",
    "\n",
    "LISTING7\n",
    "\n",
    "1. A71\n",
    "2. A72\n",
    "3. A73\n",
    "4. A74\n",
    "\n",
    "\n",
    "Вопрос №Q8, вариант VARIANT\n",
    "\n",
    "LISTING8\n",
    "\n",
    "1. A81\n",
    "2. A82\n",
    "3. A83\n",
    "4. A84\n",
    "\n",
    "\n",
    "Вопрос №Q9, вариант VARIANT\n",
    "\n",
    "LISTING9\n",
    "\n",
    "1. A91\n",
    "2. A92\n",
    "3. A93\n",
    "4. A94\n",
    "\n",
    "\"\"\""
   ]
  },
  {
   "cell_type": "code",
   "execution_count": 30,
   "metadata": {},
   "outputs": [],
   "source": [
    "def get_variant():\n",
    "    variant = np.random.choice(np.arange(N_tasks), 10)\n",
    "    current_form = deepcopy(form)\n",
    "    for i,a in enumerate(variant):\n",
    "        anssss = all_answers[a]\n",
    "        question_number = \"Q\"+str(i)\n",
    "        current_form = current_form.replace(question_number, str(a))\n",
    "        answer_number_base = \"A\"+str(i)\n",
    "        for j,b in enumerate(anssss):\n",
    "            current_form = current_form.replace(answer_number_base+str(j+1), b)\n",
    "        filename = op.join(\"tasks\", str(a)+\".py\")\n",
    "        with open(filename, \"r\") as ih:\n",
    "            u = ih.read()\n",
    "        current_form = current_form.replace(\"LISTING\"+str(i), u)\n",
    "    return(current_form)"
   ]
  },
  {
   "cell_type": "code",
   "execution_count": 31,
   "metadata": {},
   "outputs": [
    {
     "name": "stderr",
     "output_type": "stream",
     "text": [
      "100%|██████████| 30/30 [00:00<00:00, 636.28it/s]\n"
     ]
    }
   ],
   "source": [
    "for a in tqdm(range(30)):\n",
    "    with open(op.join(\"tex/\", str(a)+\".txt\"), \"w\") as oh:\n",
    "        cf = get_variant()\n",
    "        oh.write(cf.replace(\"VARIANT\", str(a)))"
   ]
  }
 ],
 "metadata": {
  "kernelspec": {
   "display_name": "Python 3",
   "language": "python",
   "name": "python3"
  },
  "language_info": {
   "codemirror_mode": {
    "name": "ipython",
    "version": 3
   },
   "file_extension": ".py",
   "mimetype": "text/x-python",
   "name": "python",
   "nbconvert_exporter": "python",
   "pygments_lexer": "ipython3",
   "version": "3.7.5"
  }
 },
 "nbformat": 4,
 "nbformat_minor": 2
}
