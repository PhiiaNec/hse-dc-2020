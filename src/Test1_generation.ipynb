{
 "cells": [
  {
   "cell_type": "code",
   "execution_count": 1,
   "metadata": {},
   "outputs": [],
   "source": [
    "import numpy as np\n",
    "import pandas as pd"
   ]
  },
  {
   "cell_type": "code",
   "execution_count": 2,
   "metadata": {},
   "outputs": [],
   "source": [
    "variables = np.array(\n",
    "    [\n",
    "        \"a\",\"b\",\"c\",\"d\",\"f\",\"g\",\"h\",\"i\",\"j\",\"k\",\"l\",\"m\",\"n\",\"o\",\"p\",\"q\",\"r\",\"s\",\"t\",\"u\",\n",
    "        \"v\",\"w\",\"x\",\"y\",\"z\"\n",
    "    ]\n",
    ")\n",
    "digits = np.array([\"0\",\"1\",\"2\",\"3\",\"4\",\"5\",\"6\",\"7\",\"8\",\"9\"])\n",
    "arithmetic = np.array([\"-\",\"+\",\"*\",\"/\"])\n",
    "equalities = [\"==\", \">\", \"<\", \">=\", \"<=\"]\n",
    "power = \"**\"\n",
    "assignment = \"=\"\n",
    "if_start = \"if CONDITION:\\n\"\n",
    "if_else = \"else:\\n\"\n",
    "if_elif = \"elif CONDITION:\\n\"\n",
    "list_comprehension = \"[FUNCTION(VARIABLE) for VARIABLE in LIST]\"\n",
    "function_start = \"def NAME(ARGUMENTS):\\n\"\n",
    "function_return = \"return(NAME)\""
   ]
  },
  {
   "cell_type": "markdown",
   "metadata": {},
   "source": [
    "Expression: variable = many digits or arithmetic or power or variable"
   ]
  },
  {
   "cell_type": "code",
   "execution_count": 3,
   "metadata": {},
   "outputs": [],
   "source": [
    "def make_digit():\n",
    "    s = \"\".join(\n",
    "        np.random.choice(digits, size=np.random.choice(np.arange(1,5)))\n",
    "    )\n",
    "    if s[0] == \"0\" and len(s) > 1:\n",
    "        s = s[1:]\n",
    "    return(s)"
   ]
  },
  {
   "cell_type": "code",
   "execution_count": 4,
   "metadata": {},
   "outputs": [],
   "source": [
    "def init_variable(current_variables):\n",
    "    if np.random.choice([True, False]):\n",
    "        s = np.random.choice(variables)+\" = \"+random_expression()\n",
    "    else:\n",
    "        if len(current_variables) > 0:\n",
    "            s = np.random.choice(current_variables)+\" = \"+random_expression()\n",
    "        else:\n",
    "            s = np.random.choice(variables)+\" = \"+random_expression()\n",
    "    return(s)"
   ]
  },
  {
   "cell_type": "code",
   "execution_count": 5,
   "metadata": {},
   "outputs": [],
   "source": [
    "def random_expression():\n",
    "    s = make_digit()\n",
    "    while np.random.choice([True, False]):\n",
    "        if np.random.choice([True, False]):\n",
    "            s += np.random.choice(arithmetic)\n",
    "            s += make_digit()\n",
    "    return(s)"
   ]
  },
  {
   "cell_type": "code",
   "execution_count": 7,
   "metadata": {},
   "outputs": [],
   "source": [
    "def make_condition(current_variables):\n",
    "    if len(current_variables) > 0:\n",
    "        var = np.random.choice(current_variables)\n",
    "    else:\n",
    "        var = np.random.choice(variables)\n",
    "    s = var + \" \" + np.random.choice(equalities) + \" \"\n",
    "    what = np.random.choice([\"variable\", \"digit\", \"expression\"])\n",
    "    if what == \"variable\":\n",
    "        if len(current_variables):\n",
    "            s += np.random.choice(current_variables)\n",
    "        else:\n",
    "            s += np.random.choice(variables)\n",
    "    elif what == \"digit\":\n",
    "        s += make_digit()\n",
    "    else:\n",
    "        s += random_expression()\n",
    "    return(s)"
   ]
  },
  {
   "cell_type": "code",
   "execution_count": 8,
   "metadata": {},
   "outputs": [],
   "source": [
    "n = np.random.choice(np.arange(5,10))"
   ]
  },
  {
   "cell_type": "code",
   "execution_count": 9,
   "metadata": {
    "scrolled": true
   },
   "outputs": [],
   "source": [
    "def make_code(n):\n",
    "    code = []\n",
    "    current_variables = []\n",
    "    open_ifs = []\n",
    "    block_count = 0\n",
    "    prev = \"start\"\n",
    "    for a in range(n):\n",
    "        what = np.random.choice(\n",
    "            [\n",
    "                \"assignment\", \"if_start\", \"if_elif\", \"if_else\"#, \"b++\", \"b--\"\n",
    "            ], p = [0.5, 0.3, 0.1, 0.1]\n",
    "        )\n",
    "        code.append(block_count*\"    \")\n",
    "        if what == \"assignment\":\n",
    "            line = init_variable(current_variables)\n",
    "            current_variables.append(line[0])\n",
    "            current_variables = list(set(current_variables))\n",
    "            code.append(line)\n",
    "        elif what == \"if_start\":\n",
    "            if a != n-1 and n != 0:\n",
    "                code.append(if_start.replace(\"CONDITION\", make_condition(current_variables)))\n",
    "                block_count += 1\n",
    "                open_ifs.append(block_count)\n",
    "            else:\n",
    "                line = init_variable(current_variables)\n",
    "                current_variables.append(line[0])\n",
    "                current_variables = list(set(current_variables))\n",
    "                code.append(line)\n",
    "        elif what == \"if_elif\":\n",
    "            if prev == \"assignment\" and a != n-1 and n != 0:\n",
    "                if len(open_ifs) > 0:\n",
    "                    if open_ifs[-1] == block_count:\n",
    "                        code.append(\n",
    "                            if_elif.replace(\"CONDITION\", make_condition(current_variables))\n",
    "                        )\n",
    "                        block_count += 1\n",
    "            else:\n",
    "                line = init_variable(current_variables)\n",
    "                current_variables.append(line[0])\n",
    "                current_variables = list(set(current_variables))\n",
    "                code.append(line)\n",
    "        elif what == \"if_elif\":\n",
    "            if prev == \"assignment\" and a != n-1 and n != 0:\n",
    "                if len(open_ifs) > 0:\n",
    "                    if open_ifs[-1] == block_count:\n",
    "                        code.append(\n",
    "                            if_else.replace(\"CONDITION\", make_condition(current_variables))\n",
    "                        )\n",
    "                        block_count += 1\n",
    "            else:\n",
    "                line = init_variable(current_variables)\n",
    "                current_variables.append(line[0])\n",
    "                current_variables = list(set(current_variables))\n",
    "                code.append(line)\n",
    "        code += \"\\n\"\n",
    "        prev = what\n",
    "      #  print(a, what)\n",
    "    if len(current_variables) > 0:\n",
    "        to_output = np.random.choice(current_variables)\n",
    "    else:\n",
    "        to_output = np.random.choice(variables)\n",
    "    code += \"print(\"+np.random.choice(current_variables)+\")\"\n",
    "    return(code, current_variables)"
   ]
  },
  {
   "cell_type": "code",
   "execution_count": 16,
   "metadata": {},
   "outputs": [],
   "source": [
    "import re\n",
    "import os\n",
    "import subprocess\n",
    "import os.path as op\n",
    "from tqdm import tqdm"
   ]
  },
  {
   "cell_type": "code",
   "execution_count": 11,
   "metadata": {},
   "outputs": [],
   "source": [
    "if not op.exists(\"tasks\"):\n",
    "    os.makedirs(\"tasks\")"
   ]
  },
  {
   "cell_type": "code",
   "execution_count": 119,
   "metadata": {},
   "outputs": [],
   "source": [
    "if not op.exists(\"pdfs\"):\n",
    "    os.makedirs(\"pdf\")"
   ]
  },
  {
   "cell_type": "code",
   "execution_count": 150,
   "metadata": {},
   "outputs": [],
   "source": [
    "if not op.exists(\"tex\"):\n",
    "    os.makedirs(\"tex\")"
   ]
  },
  {
   "cell_type": "code",
   "execution_count": 12,
   "metadata": {},
   "outputs": [],
   "source": [
    "if not op.exists(\"answers\"):\n",
    "    os.makedirs(\"answers\")"
   ]
  },
  {
   "cell_type": "code",
   "execution_count": 13,
   "metadata": {},
   "outputs": [],
   "source": [
    "if not op.exists(\"variables\"):\n",
    "    os.makedirs(\"variables\")"
   ]
  },
  {
   "cell_type": "code",
   "execution_count": 60,
   "metadata": {},
   "outputs": [],
   "source": [
    "N_tasks = 400"
   ]
  },
  {
   "cell_type": "code",
   "execution_count": 61,
   "metadata": {
    "scrolled": true
   },
   "outputs": [
    {
     "name": "stdout",
     "output_type": "stream",
     "text": [
      "b'4474\\n'\n",
      "b'6134\\n'\n",
      "b'8\\n'\n",
      "b'74\\n'\n",
      "b'5530\\n'\n",
      "b'-29\\n'\n",
      "b'0.6949152542372882\\n'\n",
      "b'0\\n'\n",
      "b'958\\n'\n",
      "b'15\\n'\n",
      "b'7807\\n'\n",
      "b'21\\n'\n",
      "b'6063.0\\n'\n",
      "b'3\\n'\n",
      "b'0\\n'\n",
      "b'864\\n'\n",
      "b'8\\n'\n",
      "b'4.919762258543834\\n'\n",
      "b'43.5\\n'\n",
      "b'60\\n'\n",
      "b'5\\n'\n",
      "b'9\\n'\n",
      "b'23\\n'\n",
      "b'6770\\n'\n",
      "b'7917224\\n'\n",
      "b'904\\n'\n",
      "b'9354\\n'\n",
      "b'-150350\\n'\n",
      "b'7\\n'\n",
      "b'22\\n'\n",
      "b'6\\n'\n",
      "b'0.004324683965402528\\n'\n",
      "b'1377\\n'\n",
      "b'0\\n'\n",
      "b'4315\\n'\n",
      "b'7258\\n'\n",
      "b'90642\\n'\n",
      "b'3192\\n'\n",
      "b'1\\n'\n",
      "b'3728\\n'\n",
      "b'5367\\n'\n",
      "b'53\\n'\n",
      "b'510\\n'\n",
      "b'617\\n'\n",
      "b'615\\n'\n",
      "b'28\\n'\n",
      "b'9\\n'\n",
      "b'871\\n'\n",
      "b'6012\\n'\n",
      "b'8913\\n'\n",
      "b'6\\n'\n",
      "b'139\\n'\n",
      "b'7\\n'\n",
      "b'32\\n'\n",
      "b'292\\n'\n",
      "b'8022\\n'\n",
      "b'80\\n'\n",
      "b'20\\n'\n",
      "b'45\\n'\n",
      "b'118\\n'\n",
      "b'69\\n'\n",
      "b'5236\\n'\n",
      "b'142\\n'\n",
      "b'866\\n'\n",
      "b'4428\\n'\n",
      "b'6496\\n'\n",
      "b'8330\\n'\n",
      "b'673\\n'\n",
      "b'16\\n'\n",
      "b'685\\n'\n",
      "b'22355\\n'\n",
      "b'88\\n'\n",
      "b'6.857142857142857\\n'\n",
      "b'746\\n'\n",
      "b'4946\\n'\n",
      "b'6\\n'\n",
      "b'331\\n'\n",
      "b'937\\n'\n",
      "b'5\\n'\n",
      "b'862\\n'\n",
      "b'6\\n'\n",
      "b'-470\\n'\n",
      "b'-67340.5\\n'\n",
      "b'8679\\n'\n",
      "b'3327\\n'\n",
      "b'431\\n'\n",
      "b'4\\n'\n",
      "b'1.6\\n'\n",
      "b'957\\n'\n",
      "b'0.0013706140350877192\\n'\n",
      "b'5809\\n'\n",
      "b'8\\n'\n",
      "b'-7.604875702870672\\n'\n",
      "b'731\\n'\n",
      "b'79\\n'\n",
      "b'9774\\n'\n",
      "b'89\\n'\n",
      "b'5452\\n'\n",
      "b'95\\n'\n",
      "b'504\\n'\n",
      "b'0\\n'\n",
      "b'43\\n'\n",
      "b'-2891\\n'\n",
      "b'43733\\n'\n",
      "b'474\\n'\n",
      "b'73\\n'\n",
      "b'27356\\n'\n",
      "b'-453\\n'\n",
      "b'909\\n'\n",
      "b'4007\\n'\n",
      "b'0\\n'\n",
      "b'3449\\n'\n",
      "b'-2380\\n'\n",
      "b'411\\n'\n",
      "b'-285961\\n'\n",
      "b'272093\\n'\n",
      "b'17470\\n'\n",
      "b'-417\\n'\n",
      "b'1045\\n'\n",
      "b'-748\\n'\n",
      "b'9.125\\n'\n",
      "b'574\\n'\n",
      "b'212\\n'\n",
      "b'4371\\n'\n",
      "b'769\\n'\n",
      "b'3\\n'\n",
      "b'9042\\n'\n",
      "b'16\\n'\n",
      "b'6037\\n'\n",
      "b'973\\n'\n"
     ]
    }
   ],
   "source": [
    "for a in range(N_tasks):\n",
    "    fn = op.join(\"tasks\", str(a)+\".py\")\n",
    "    ans_fn = op.join(\"answers\", str(a)+\".txt\")\n",
    "    var_fn = op.join(\"variables\", str(a)+\".txt\")\n",
    "    code, vs = make_code(np.random.choice(np.arange(5,20)))\n",
    "    with open(fn, \"w\") as oh:\n",
    "        oh.write(\"\".join(code))\n",
    "    the_code = subprocess.Popen(\n",
    "        \"python \"+fn, stdout=subprocess.PIPE, stderr=subprocess.PIPE, shell=True\n",
    "    )\n",
    "    stdout, stderr = the_code.communicate()\n",
    "    with open(ans_fn, \"w\") as oh:\n",
    "        if len(stdout) != 0:\n",
    "            print(stdout)\n",
    "            oh.write(\"correct\\n\")\n",
    "            oh.write(stdout.decode())\n",
    "        else:\n",
    "            oh.write(\"error\\n\")\n",
    "            oh.write(stderr.decode())\n",
    "    with open(var_fn, \"w\") as oh:\n",
    "        oh.write(\",\".join(vs))"
   ]
  },
  {
   "cell_type": "code",
   "execution_count": 73,
   "metadata": {},
   "outputs": [],
   "source": [
    "def form_answers(n):\n",
    "    ans_fn = op.join(\"answers\", str(n)+\".txt\")\n",
    "    with open(ans_fn, \"r\") as ih:\n",
    "        last_line = ih.readlines()[-1]\n",
    "    return(last_line)"
   ]
  },
  {
   "cell_type": "code",
   "execution_count": 107,
   "metadata": {},
   "outputs": [],
   "source": [
    "def form_incorrect_answers(n, corrects):\n",
    "    var_fn = op.join(\"variables\", str(n)+\".txt\")\n",
    "    with open(var_fn, \"r\") as ih1:\n",
    "        chosen = np.random.choice(corrects)\n",
    "        variables_in_file = ih1.read().replace(\"\\n\", \"\").split(\",\")\n",
    "        what = np.random.choice([\"chosen\", \"random\"])\n",
    "        if what == \"chosen\":\n",
    "            if \"name\" in chosen:\n",
    "                if len(variables_in_file)>1:\n",
    "                    rpl = np.random.choice(variables_in_file)\n",
    "                    chosen = re.sub(\"name \\'[a-z]\\'\", \"name \\'\"+rpl+\"\\'\", chosen)\n",
    "        elif what == \"random\":\n",
    "            chosen = make_digit()\n",
    "    return(chosen)"
   ]
  },
  {
   "cell_type": "code",
   "execution_count": 108,
   "metadata": {},
   "outputs": [
    {
     "data": {
      "text/plain": [
       "\"NameError: name 'o' is not defined\\n\""
      ]
     },
     "execution_count": 108,
     "metadata": {},
     "output_type": "execute_result"
    }
   ],
   "source": [
    "form_answers(6)"
   ]
  },
  {
   "cell_type": "code",
   "execution_count": 111,
   "metadata": {},
   "outputs": [
    {
     "data": {
      "text/plain": [
       "\"NameError: name 'z' is not defined\\n\""
      ]
     },
     "execution_count": 111,
     "metadata": {},
     "output_type": "execute_result"
    }
   ],
   "source": [
    "form_incorrect_answers(6, correct_answers)"
   ]
  },
  {
   "cell_type": "code",
   "execution_count": 75,
   "metadata": {},
   "outputs": [],
   "source": [
    "correct_answers = [form_answers(a) for a in np.arange(N_tasks)]"
   ]
  },
  {
   "cell_type": "code",
   "execution_count": 114,
   "metadata": {},
   "outputs": [],
   "source": [
    "incorrect_answers_1 = [form_incorrect_answers(a, correct_answers) for a in np.arange(N_tasks)]\n",
    "incorrect_answers_2 = [form_incorrect_answers(a, correct_answers) for a in np.arange(N_tasks)]\n",
    "incorrect_answers_3 = [form_incorrect_answers(a, correct_answers) for a in np.arange(N_tasks)]"
   ]
  },
  {
   "cell_type": "code",
   "execution_count": 160,
   "metadata": {},
   "outputs": [],
   "source": [
    "with open(\"test_form.tex\", \"r\") as ih:\n",
    "    form = ih.read()"
   ]
  },
  {
   "cell_type": "code",
   "execution_count": 123,
   "metadata": {},
   "outputs": [],
   "source": [
    "variant = np.random.choice(np.arange(N_tasks), 10)"
   ]
  },
  {
   "cell_type": "code",
   "execution_count": 124,
   "metadata": {},
   "outputs": [
    {
     "data": {
      "text/plain": [
       "array([124, 343, 133,  78,  23, 208,  85, 125,  23, 383])"
      ]
     },
     "execution_count": 124,
     "metadata": {},
     "output_type": "execute_result"
    }
   ],
   "source": [
    "variant"
   ]
  },
  {
   "cell_type": "code",
   "execution_count": 132,
   "metadata": {},
   "outputs": [],
   "source": [
    "from copy import deepcopy"
   ]
  },
  {
   "cell_type": "code",
   "execution_count": 152,
   "metadata": {},
   "outputs": [],
   "source": [
    "def get_variant():\n",
    "    variant = np.random.choice(np.arange(N_tasks), 10)\n",
    "    current_form = deepcopy(form)\n",
    "    for i,a in enumerate(variant):\n",
    "        correct_answer = form_answers(a)\n",
    "        incorrects = [form_incorrect_answers(a, correct_answers) for b in range(3)]\n",
    "        anssss = np.random.permutation(incorrects + [correct_answer])\n",
    "        question_number = \"Q\"+str(i)\n",
    "        current_form = current_form.replace(question_number, str(a))\n",
    "        answer_number_base = \"A\"+str(i)\n",
    "        for j,b in enumerate(anssss):\n",
    "            current_form = current_form.replace(answer_number_base+str(j+1), b)\n",
    "        filename = \"test.py}%\"+str(i)\n",
    "        current_form = current_form.replace(filename, op.join(\"../tasks\", str(a)+\".py}\"))\n",
    "    return(current_form)"
   ]
  },
  {
   "cell_type": "code",
   "execution_count": 161,
   "metadata": {},
   "outputs": [
    {
     "name": "stderr",
     "output_type": "stream",
     "text": [
      "100%|██████████| 30/30 [00:02<00:00, 10.75it/s]\n"
     ]
    }
   ],
   "source": [
    "for a in tqdm(range(30)):\n",
    "    with open(op.join(\"tex/\", str(a)+\".tex\"), \"w\") as oh:\n",
    "        cf = get_variant()\n",
    "        oh.write(cf.replace(\"VARIANT\", str(a)))\n",
    "        os.system(\n",
    "            \"pdflatex -synctex=1 -interaction=nonstopmode \"+str(a)+\".tex\"\n",
    "        )"
   ]
  },
  {
   "cell_type": "code",
   "execution_count": 162,
   "metadata": {},
   "outputs": [
    {
     "name": "stderr",
     "output_type": "stream",
     "text": [
      "100%|██████████| 30/30 [00:00<00:00, 272357.40it/s]\n"
     ]
    }
   ],
   "source": [
    "mergepdf = \"pdfunite \"\n",
    "for a in tqdm(range(30)):\n",
    "    mergepdf += str(a)+\".pdf \""
   ]
  },
  {
   "cell_type": "code",
   "execution_count": 164,
   "metadata": {},
   "outputs": [
    {
     "data": {
      "text/plain": [
       "'pdfunite 0.pdf 1.pdf 2.pdf 3.pdf 4.pdf 5.pdf 6.pdf 7.pdf 8.pdf 9.pdf 10.pdf 11.pdf 12.pdf 13.pdf 14.pdf 15.pdf 16.pdf 17.pdf 18.pdf 19.pdf 20.pdf 21.pdf 22.pdf 23.pdf 24.pdf 25.pdf 26.pdf 27.pdf 28.pdf 29.pdf merged_output.pdf'"
      ]
     },
     "execution_count": 164,
     "metadata": {},
     "output_type": "execute_result"
    }
   ],
   "source": [
    "mergepdf+\"merged_output.pdf\""
   ]
  },
  {
   "cell_type": "code",
   "execution_count": 159,
   "metadata": {},
   "outputs": [
    {
     "name": "stderr",
     "output_type": "stream",
     "text": [
      "100%|██████████| 30/30 [00:00<00:00, 34360.76it/s]"
     ]
    },
    {
     "name": "stdout",
     "output_type": "stream",
     "text": [
      "pdflatex -synctex=1 -interaction=nonstopmode 0.tex\n",
      "pdflatex -synctex=1 -interaction=nonstopmode 1.tex\n",
      "pdflatex -synctex=1 -interaction=nonstopmode 2.tex\n",
      "pdflatex -synctex=1 -interaction=nonstopmode 3.tex\n",
      "pdflatex -synctex=1 -interaction=nonstopmode 4.tex\n",
      "pdflatex -synctex=1 -interaction=nonstopmode 5.tex\n",
      "pdflatex -synctex=1 -interaction=nonstopmode 6.tex\n",
      "pdflatex -synctex=1 -interaction=nonstopmode 7.tex\n",
      "pdflatex -synctex=1 -interaction=nonstopmode 8.tex\n",
      "pdflatex -synctex=1 -interaction=nonstopmode 9.tex\n",
      "pdflatex -synctex=1 -interaction=nonstopmode 10.tex\n",
      "pdflatex -synctex=1 -interaction=nonstopmode 11.tex\n",
      "pdflatex -synctex=1 -interaction=nonstopmode 12.tex\n",
      "pdflatex -synctex=1 -interaction=nonstopmode 13.tex\n",
      "pdflatex -synctex=1 -interaction=nonstopmode 14.tex\n",
      "pdflatex -synctex=1 -interaction=nonstopmode 15.tex\n",
      "pdflatex -synctex=1 -interaction=nonstopmode 16.tex\n",
      "pdflatex -synctex=1 -interaction=nonstopmode 17.tex\n",
      "pdflatex -synctex=1 -interaction=nonstopmode 18.tex\n",
      "pdflatex -synctex=1 -interaction=nonstopmode 19.tex\n",
      "pdflatex -synctex=1 -interaction=nonstopmode 20.tex\n",
      "pdflatex -synctex=1 -interaction=nonstopmode 21.tex\n",
      "pdflatex -synctex=1 -interaction=nonstopmode 22.tex\n",
      "pdflatex -synctex=1 -interaction=nonstopmode 23.tex\n",
      "pdflatex -synctex=1 -interaction=nonstopmode 24.tex\n",
      "pdflatex -synctex=1 -interaction=nonstopmode 25.tex\n",
      "pdflatex -synctex=1 -interaction=nonstopmode 26.tex\n",
      "pdflatex -synctex=1 -interaction=nonstopmode 27.tex\n",
      "pdflatex -synctex=1 -interaction=nonstopmode 28.tex\n",
      "pdflatex -synctex=1 -interaction=nonstopmode 29.tex\n"
     ]
    },
    {
     "name": "stderr",
     "output_type": "stream",
     "text": [
      "\n"
     ]
    }
   ],
   "source": [
    "for a in tqdm(range(30)):\n",
    "    print(\"pdflatex -synctex=1 -interaction=nonstopmode \"+str(a)+\".tex\")"
   ]
  },
  {
   "cell_type": "code",
   "execution_count": 146,
   "metadata": {},
   "outputs": [],
   "source": [
    "with open(\"test_form_result.tex\", \"w\") as oh:\n",
    "    oh.write(current_form)"
   ]
  },
  {
   "cell_type": "code",
   "execution_count": 131,
   "metadata": {},
   "outputs": [
    {
     "data": {
      "text/plain": [
       "array(['7917224\\n', 'SyntaxError: invalid token\\n', '7', '769\\n'],\n",
       "      dtype='<U27')"
      ]
     },
     "execution_count": 131,
     "metadata": {},
     "output_type": "execute_result"
    }
   ],
   "source": [
    "anssss"
   ]
  },
  {
   "cell_type": "code",
   "execution_count": 115,
   "metadata": {},
   "outputs": [
    {
     "data": {
      "text/plain": [
       "\"NameError: name 'q' is not defined\\n\""
      ]
     },
     "execution_count": 115,
     "metadata": {},
     "output_type": "execute_result"
    }
   ],
   "source": [
    "correct_answers[32]"
   ]
  },
  {
   "cell_type": "code",
   "execution_count": 116,
   "metadata": {},
   "outputs": [
    {
     "data": {
      "text/plain": [
       "'7359'"
      ]
     },
     "execution_count": 116,
     "metadata": {},
     "output_type": "execute_result"
    }
   ],
   "source": [
    "incorrect_answers_1[32]"
   ]
  },
  {
   "cell_type": "code",
   "execution_count": 117,
   "metadata": {},
   "outputs": [
    {
     "data": {
      "text/plain": [
       "'72'"
      ]
     },
     "execution_count": 117,
     "metadata": {},
     "output_type": "execute_result"
    }
   ],
   "source": [
    "incorrect_answers_2[32]"
   ]
  },
  {
   "cell_type": "code",
   "execution_count": 118,
   "metadata": {},
   "outputs": [
    {
     "data": {
      "text/plain": [
       "\"NameError: name 'g' is not defined\\n\""
      ]
     },
     "execution_count": 118,
     "metadata": {},
     "output_type": "execute_result"
    }
   ],
   "source": [
    "incorrect_answers_3[32]"
   ]
  }
 ],
 "metadata": {
  "kernelspec": {
   "display_name": "Python 3",
   "language": "python",
   "name": "python3"
  },
  "language_info": {
   "codemirror_mode": {
    "name": "ipython",
    "version": 3
   },
   "file_extension": ".py",
   "mimetype": "text/x-python",
   "name": "python",
   "nbconvert_exporter": "python",
   "pygments_lexer": "ipython3",
   "version": "3.7.5"
  }
 },
 "nbformat": 4,
 "nbformat_minor": 2
}
