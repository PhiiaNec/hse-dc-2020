{
 "cells": [
  {
   "cell_type": "markdown",
   "metadata": {
    "slideshow": {
     "slide_type": "slide"
    }
   },
   "source": [
    "## Организационные детали"
   ]
  },
  {
   "cell_type": "markdown",
   "metadata": {
    "slideshow": {
     "slide_type": "fragment"
    }
   },
   "source": [
    "### Контакты\n",
    "\n",
    "##### Кириллов Богдан Александрович\n",
    "M.Sc in Biotechnology   \n",
    "Ph.D. Student at Skoltech    \n",
    "E-mail: `8k1r1ll0v@gmail.com`    \n",
    "Telegram: `k1r1ll0v`\n",
    "\n",
    "###### Обсуждения и новости по курсу\n",
    "GitHub: https://github.com/bakirillov/hse-dc-2020    \n",
    "Telegram-чат: https://t.me/joinchat/Bw4cgkLpSMgC52DEEfj_aw\n"
   ]
  },
  {
   "cell_type": "markdown",
   "metadata": {
    "slideshow": {
     "slide_type": "slide"
    }
   },
   "source": [
    "### Структура курса\n",
    "\n",
    "`6 лекций` - первые две недели    \n",
    "`N семинаров` - все остальное время"
   ]
  },
  {
   "cell_type": "markdown",
   "metadata": {
    "slideshow": {
     "slide_type": "slide"
    }
   },
   "source": [
    "### Темы лекций:  \n",
    "1. Язык программирования Python   \n",
    "2. Основы теории вероятностей   \n",
    "3. Основы статистики    \n",
    "4. Проверка статистических гипотез\n",
    "5. Байесианский подход к статистике  \n",
    "6. Основы машинного обучения"
   ]
  },
  {
   "cell_type": "markdown",
   "metadata": {
    "slideshow": {
     "slide_type": "slide"
    }
   },
   "source": [
    "### Оценивание"
   ]
  },
  {
   "cell_type": "markdown",
   "metadata": {
    "slideshow": {
     "slide_type": "fragment"
    }
   },
   "source": [
    "$$\n",
    "    G = ROUND(\\frac{4}{5}\\times(\\frac{2}{4}\\sum_{i=1}^{6}{classwork_{i}} + \\frac{1}{8}\\sum_{i=1}^{11}{tests_i} + \\frac{1}{4}\\sum_{i=1}^{3}{homework_i}+\\frac{1}{8}exam)+\\frac{1}{5}\\sum{digital\\ literacy}\n",
    "$$"
   ]
  },
  {
   "cell_type": "markdown",
   "metadata": {
    "slideshow": {
     "slide_type": "fragment"
    }
   },
   "source": [
    "##### Никаких блокирующих оценок!"
   ]
  },
  {
   "cell_type": "markdown",
   "metadata": {
    "slideshow": {
     "slide_type": "slide"
    }
   },
   "source": [
    "### Литература"
   ]
  },
  {
   "cell_type": "markdown",
   "metadata": {
    "slideshow": {
     "slide_type": "fragment"
    }
   },
   "source": [
    "1. Н.И.Чернова, Математическая статистика: учебное пособие, https://nsu.ru/mmf/tvims/chernova/ms/ms_nsu07.pdf  \n",
    "2. Downey A. et al, Think Python: How to Think Like a Computer Scientist 2.0., https://greenteapress.com/wp/think-python-2e/\n",
    "3. Shalev-Shwartz S., Ben-David S., Understanding machine learning: From theory to algorithms., http://www.cs.huji.ac.il/~shais/UnderstandingMachineLearning/index.html\n",
    "4. Cobbaut P., Linux Fundamentals. http://linux-training.be/linuxfun.pdf\n",
    "5. Scikit-learn: Machine Learning in Python, https://scikit-learn.org/stable/\n",
    "6. Uber Ludwig, https://uber.github.io/ludwig/\n",
    "7. Stepik \"Введение в Linux\", https://stepik.org/course/73/promo   \n",
    "\n",
    "Дополнительная литература будет появляться в чате с хэштегом #литература."
   ]
  }
 ],
 "metadata": {
  "celltoolbar": "Slideshow",
  "kernelspec": {
   "display_name": "Python 3",
   "language": "python",
   "name": "python3"
  },
  "language_info": {
   "codemirror_mode": {
    "name": "ipython",
    "version": 3
   },
   "file_extension": ".py",
   "mimetype": "text/x-python",
   "name": "python",
   "nbconvert_exporter": "python",
   "pygments_lexer": "ipython3",
   "version": "3.7.5"
  }
 },
 "nbformat": 4,
 "nbformat_minor": 2
}
