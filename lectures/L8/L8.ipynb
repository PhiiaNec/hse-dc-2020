{
 "cells": [
  {
   "cell_type": "code",
   "execution_count": 1,
   "metadata": {},
   "outputs": [],
   "source": [
    "import numpy as np"
   ]
  },
  {
   "cell_type": "code",
   "execution_count": 2,
   "metadata": {},
   "outputs": [],
   "source": [
    "class Turing():\n",
    "    \n",
    "    def __init__(self):\n",
    "        self.operations = {\n",
    "            \"PUT1\": self.one,\n",
    "            \"PUT0\": self.zero,\n",
    "            \"LSHIFT\": self.lshift,\n",
    "            \"RSHIFT\": self.rshift,\n",
    "            \"GET\": self.get,\n",
    "            \"IF\": self.if_start,\n",
    "            \"IFEND\": self.if_end\n",
    "        }\n",
    "        self.restart()\n",
    "        \n",
    "    def restart(self):\n",
    "        self.stack = []\n",
    "        self.tape = np.zeros(1000)-1\n",
    "        self.head = 500\n",
    "        self.cell = -1\n",
    "        \n",
    "    def execute(self, program):\n",
    "        for a in list(\n",
    "            filter(\n",
    "                lambda x: len(x) > 0,\n",
    "                program.split(\"\\n\")\n",
    "            )\n",
    "        ):\n",
    "            self.operations[a]()\n",
    "        \n",
    "    def show(self, s=10, e=10):\n",
    "        print(self.tape[self.head-s:self.head+e])\n",
    "        \n",
    "    def one(self):\n",
    "        if len(self.stack) > 0:\n",
    "            if self.stack[-1] == 1:\n",
    "                self.tape[self.head] = 1\n",
    "        else:\n",
    "            self.tape[self.head] = 1\n",
    "        \n",
    "    def zero(self):\n",
    "        if len(self.stack) > 0:\n",
    "            if self.stack[-1] == 1:\n",
    "                self.tape[self.head] = 0\n",
    "        else:\n",
    "            self.tape[self.head] = 0\n",
    "        \n",
    "    def lshift(self):\n",
    "        if len(self.stack) > 0:\n",
    "            if self.stack[-1] == 1:\n",
    "                self.head -= 1\n",
    "        else:\n",
    "            self.head -= 1\n",
    "        \n",
    "    def rshift(self):\n",
    "        if len(self.stack) > 0:\n",
    "            if self.stack[-1] == 1:\n",
    "                self.head += 1\n",
    "        else:\n",
    "            self.head += 1\n",
    "        \n",
    "    def get(self):\n",
    "        if len(self.stack) > 0:\n",
    "            if self.stack[-1] == 1:\n",
    "                self.cell = self.tape[self.head]\n",
    "        else:\n",
    "            self.cell = self.tape[self.head]\n",
    "        \n",
    "    def if_start(self):\n",
    "        if self.cell == self.tape[self.head]:\n",
    "            self.stack.append(1)\n",
    "        else:\n",
    "            self.stack.append(0)\n",
    "        \n",
    "    def if_end(self):\n",
    "        self.stack.pop()"
   ]
  },
  {
   "cell_type": "code",
   "execution_count": 3,
   "metadata": {},
   "outputs": [],
   "source": [
    "t = Turing()"
   ]
  },
  {
   "cell_type": "code",
   "execution_count": 4,
   "metadata": {},
   "outputs": [],
   "source": [
    "sample = \"\"\"\n",
    "RSHIFT\n",
    "PUT1\n",
    "RSHIFT\n",
    "PUT1\n",
    "RSHIFT\n",
    "PUT1\n",
    "PUT0\n",
    "LSHIFT\n",
    "PUT0\n",
    "LSHIFT\n",
    "PUT0\n",
    "\"\"\""
   ]
  },
  {
   "cell_type": "code",
   "execution_count": 5,
   "metadata": {},
   "outputs": [],
   "source": [
    "t.execute(sample)"
   ]
  },
  {
   "cell_type": "code",
   "execution_count": 6,
   "metadata": {},
   "outputs": [
    {
     "name": "stdout",
     "output_type": "stream",
     "text": [
      "[-1. -1. -1. -1. -1. -1. -1. -1. -1. -1.  0.  0.  0. -1. -1. -1. -1. -1.\n",
      " -1. -1.]\n"
     ]
    }
   ],
   "source": [
    "t.show()"
   ]
  },
  {
   "cell_type": "code",
   "execution_count": 7,
   "metadata": {},
   "outputs": [],
   "source": [
    "t.restart()"
   ]
  },
  {
   "cell_type": "code",
   "execution_count": 8,
   "metadata": {},
   "outputs": [],
   "source": [
    "sample = \"\"\"\n",
    "PUT1\n",
    "GET\n",
    "RSHIFT\n",
    "RSHIFT\n",
    "PUT1\n",
    "\"\"\""
   ]
  },
  {
   "cell_type": "code",
   "execution_count": 9,
   "metadata": {},
   "outputs": [],
   "source": [
    "t.execute(sample)"
   ]
  },
  {
   "cell_type": "code",
   "execution_count": 10,
   "metadata": {},
   "outputs": [
    {
     "name": "stdout",
     "output_type": "stream",
     "text": [
      "[ 1. -1.  1. -1. -1. -1. -1. -1. -1. -1. -1. -1.]\n"
     ]
    }
   ],
   "source": [
    "t.show(s=2)"
   ]
  },
  {
   "cell_type": "code",
   "execution_count": 11,
   "metadata": {},
   "outputs": [],
   "source": [
    "sample2 = \"\"\"IF\n",
    "RSHIFT\n",
    "PUT1\n",
    "RSHIFT\n",
    "PUT1\n",
    "RSHIFT\n",
    "PUT1\n",
    "IFEND\n",
    "\"\"\""
   ]
  },
  {
   "cell_type": "code",
   "execution_count": 12,
   "metadata": {},
   "outputs": [],
   "source": [
    "t.execute(sample2)"
   ]
  },
  {
   "cell_type": "code",
   "execution_count": 15,
   "metadata": {
    "scrolled": true
   },
   "outputs": [
    {
     "name": "stdout",
     "output_type": "stream",
     "text": [
      "[-1. -1.  1. -1.  1.  1.  1.  1. -1. -1. -1. -1. -1. -1. -1. -1. -1.]\n"
     ]
    }
   ],
   "source": [
    "t.show(s=7)"
   ]
  },
  {
   "cell_type": "code",
   "execution_count": 14,
   "metadata": {},
   "outputs": [
    {
     "data": {
      "text/plain": [
       "505"
      ]
     },
     "execution_count": 14,
     "metadata": {},
     "output_type": "execute_result"
    }
   ],
   "source": [
    "t.head"
   ]
  },
  {
   "cell_type": "code",
   "execution_count": 16,
   "metadata": {},
   "outputs": [],
   "source": [
    "sample3 = \"\"\"\n",
    "IFEND\n",
    "PUT0\n",
    "LSHIFT\n",
    "PUT0\n",
    "LSHIFT\n",
    "PUT0\n",
    "\"\"\""
   ]
  },
  {
   "cell_type": "code",
   "execution_count": 17,
   "metadata": {},
   "outputs": [
    {
     "data": {
      "text/plain": [
       "505"
      ]
     },
     "execution_count": 17,
     "metadata": {},
     "output_type": "execute_result"
    }
   ],
   "source": [
    "t.head"
   ]
  },
  {
   "cell_type": "code",
   "execution_count": 18,
   "metadata": {
    "scrolled": true
   },
   "outputs": [
    {
     "name": "stdout",
     "output_type": "stream",
     "text": [
      "[-1. -1.  1. -1.  1.  1.  1.  1. -1. -1. -1. -1. -1. -1. -1. -1. -1.]\n"
     ]
    }
   ],
   "source": [
    "t.show(s=7)"
   ]
  }
 ],
 "metadata": {
  "kernelspec": {
   "display_name": "Python 3",
   "language": "python",
   "name": "python3"
  },
  "language_info": {
   "codemirror_mode": {
    "name": "ipython",
    "version": 3
   },
   "file_extension": ".py",
   "mimetype": "text/x-python",
   "name": "python",
   "nbconvert_exporter": "python",
   "pygments_lexer": "ipython3",
   "version": "3.7.5"
  }
 },
 "nbformat": 4,
 "nbformat_minor": 2
}
